{
 "cells": [
  {
   "cell_type": "code",
   "execution_count": 142,
   "metadata": {},
   "outputs": [],
   "source": [
    "import glob\n",
    "import json\n",
    "from pprint import pprint"
   ]
  },
  {
   "cell_type": "markdown",
   "metadata": {},
   "source": [
    "#### i had to rename some files becausde i didnt format the date properly D:"
   ]
  },
  {
   "cell_type": "code",
   "execution_count": null,
   "metadata": {},
   "outputs": [],
   "source": [
    "filenames = glob.glob(\"./*.json\")\n",
    "file_dt = sorted([file[10:-5].split('-') for file in filenames], reverse=True)\n",
    "print(file_dt)\n",
    "for d,t in file_dt[:20]:\n",
    "    date = d[:4] + '0' + d[-2] + '0' + d[-1] if len(d) < 9 else d\n",
    "    if len(t) == 2:\n",
    "        time = '0' + t[0] + '0' + t[1]\n",
    "    elif len(t) == 3:\n",
    "        time = '0' + t\n",
    "    else:\n",
    "        time = t\n",
    "    orig = 'scraped-' + d + '-' + t + '.json'\n",
    "    new = 'scraped-' + date + '-' + time + '.json'\n",
    "    print(orig, new)\n",
    "    # old_file = os.path.join(os.getcwd(), orig)\n",
    "    # new_file = os.path.join(os.getcwd(), new)\n",
    "    # os.rename(old_file, new_file)"
   ]
  },
  {
   "cell_type": "markdown",
   "metadata": {},
   "source": [
    "#### for every date, time, lets see what the restaurants and deals are"
   ]
  },
  {
   "cell_type": "code",
   "execution_count": 113,
   "metadata": {},
   "outputs": [],
   "source": [
    "def get_deal_info(deal_json):\n",
    "    deals = set()\n",
    "    for deal in deal_json:\n",
    "        if deal[\"isSoldOut\"] or not deal[\"isAvailable\"]:\n",
    "            continue\n",
    "        else:\n",
    "            deals.add(deal[\"title\"])\n",
    "    return deals\n",
    "\n",
    "def get_deals(uber_json):\n",
    "    deals = {res[\"name\"]: get_deal_info(res[\"deals\"])\n",
    "            for res in uber_json}\n",
    "    return deals"
   ]
  },
  {
   "cell_type": "code",
   "execution_count": 120,
   "metadata": {},
   "outputs": [],
   "source": [
    "def deal_dif(prev_deals, deals):\n",
    "    changes = {'added':[], 'removed': []}\n",
    "    for resto in prev_deals:\n",
    "        if resto not in deals:\n",
    "            changes['removed'].append({resto: prev_deals[resto]})\n",
    "            continue\n",
    "        elif deals[resto] == prev_deals[resto]:\n",
    "            continue\n",
    "        else:\n",
    "            changes['removed'].append({resto: prev_deals[resto].difference(deals[resto])})\n",
    "\n",
    "    for resto in deals:\n",
    "        if resto not in prev_deals:\n",
    "            changes['added'].append({resto: deals[resto]})\n",
    "            continue\n",
    "        elif deals[resto] == prev_deals[resto]:\n",
    "            continue\n",
    "        else:\n",
    "            changes['added'].append({resto: deals[resto].difference(prev_deals[resto])})\n",
    "    return changes"
   ]
  },
  {
   "cell_type": "code",
   "execution_count": null,
   "metadata": {},
   "outputs": [],
   "source": [
    "filenames = sorted(glob.glob(\"./*.json\"))\n",
    "prev_deals = []\n",
    "daily_updates = {date: 0 for date in ['0401', '0402', '0403']}\n",
    "for file in filenames:\n",
    "    with open(file, 'r') as f:\n",
    "        date, time = file[14:18], file[19:24]\n",
    "        json_data = json.load(f)\n",
    "        deals = get_deals(json_data)\n",
    "        if not prev_deals:\n",
    "            print(date, time, deals)\n",
    "        else:\n",
    "            daily_updates[date] += 1\n",
    "            changes = deal_dif(prev_deals, deals)\n",
    "            if changes['added'] or changes['removed']:\n",
    "                print('Day', date, 'time', time)\n",
    "                print(changes)\n",
    "        prev_deals = deals\n",
    "print(daily_updates)"
   ]
  },
  {
   "cell_type": "code",
   "execution_count": 151,
   "metadata": {},
   "outputs": [
    {
     "name": "stdout",
     "output_type": "stream",
     "text": [
      "\n",
      " 1642\n",
      "{'Good Day Chinese': {'Can Soda 汽水', 'Wonton Soup 云吞汤', 'Edamame 毛豆'},\n",
      " 'Nan Xiang Express Soup Dumplings-Downtown Brooklyn': {'N5.Chicken Stir-fried '\n",
      "                                                        'Noodles'},\n",
      " 'Tio Pio': {'Chocolate Cake'}}\n",
      "\n",
      " 1643\n",
      "{'Good Day Chinese': {'Can Soda 汽水', 'Wonton Soup 云吞汤', 'Edamame 毛豆'},\n",
      " 'Nan Xiang Express Soup Dumplings-Downtown Brooklyn': {'N5.Chicken Stir-fried '\n",
      "                                                        'Noodles'},\n",
      " 'Tio Pio': {'Chocolate Cake'}}\n",
      "\n",
      " 1647\n",
      "{\"375° Chicken 'n Fries Downtown Brooklyn\": {'Single Tender Slider'},\n",
      " 'Arepa Lady - Deklab Market': {'Arepa de Choclo'},\n",
      " 'Best Friend Food Hall (Bridge St)': {'BBQ Chicken Bowl'},\n",
      " \"Dan and John's Wings - Dekalb market\": {'Boneless Wings (5 Pieces)'},\n",
      " 'German Doner Kebab (GDK) - Columbus Park': {'Doner Wrap',\n",
      "                                              'Flaming Fries',\n",
      "                                              'THE ORIGINAL'},\n",
      " 'Good Day Chinese': {'Can Soda 汽水', 'Wonton Soup 云吞汤', 'Edamame 毛豆'},\n",
      " 'Guac Time Mexican Grill - ( Jay Street )': {\"Beef Birria Taco's 2(pcs)\",\n",
      "                                              'Chicken Birria 2pc.',\n",
      "                                              'Guac Time Burrito',\n",
      "                                              'Guac Time Burrito Bowl',\n",
      "                                              'Guac Time Crunchwrap'},\n",
      " \"Mighty Quinn's BBQ - Downtown Brooklyn\": {'Mac & Cheese Empanadas',\n",
      "                                            'Pulled Pork Empanadas'},\n",
      " 'Nan Xiang Express Soup Dumplings-Downtown Brooklyn': {'N5.Chicken Stir-fried '\n",
      "                                                        'Noodles'},\n",
      " 'Shake Shack (Downtown Brooklyn)': {'Avocado Bacon Burger',\n",
      "                                     'Avocado Bacon Chicken'},\n",
      " \"Sticky's - DT BK (9)\": {'3pc Chicken Fingers'},\n",
      " 'Tio Pio': {'Chocolate Cake'},\n",
      " 'moonbowls (Healthy Korean Bowls- Bridge St)': {'BBQ Chicken Bowl'}}\n",
      "\n",
      " 1653\n",
      "{\"375° Chicken 'n Fries Downtown Brooklyn\": {'Single Tender Slider'},\n",
      " 'Arepa Lady - Deklab Market': {'Arepa de Choclo'},\n",
      " 'Best Friend Food Hall (Bridge St)': {'BBQ Chicken Bowl'},\n",
      " \"Dan and John's Wings - Dekalb market\": {'Boneless Wings (5 Pieces)'},\n",
      " 'German Doner Kebab (GDK) - Columbus Park': {'Doner Wrap',\n",
      "                                              'Flaming Fries',\n",
      "                                              'THE ORIGINAL'},\n",
      " 'Good Day Chinese': {'Can Soda 汽水', 'Wonton Soup 云吞汤', 'Edamame 毛豆'},\n",
      " 'Guac Time Mexican Grill - ( Jay Street )': {\"Beef Birria Taco's 2(pcs)\",\n",
      "                                              'Chicken Birria 2pc.',\n",
      "                                              'Guac Time Burrito',\n",
      "                                              'Guac Time Burrito Bowl',\n",
      "                                              'Guac Time Crunchwrap'},\n",
      " \"Mighty Quinn's BBQ - Downtown Brooklyn\": {'Mac & Cheese Empanadas',\n",
      "                                            'Pulled Pork Empanadas'},\n",
      " 'Nan Xiang Express Soup Dumplings-Downtown Brooklyn': {'N5.Chicken Stir-fried '\n",
      "                                                        'Noodles'},\n",
      " 'Pio Bagel - Flatbush': {'Butter Bagel Sandwich',\n",
      "                          'Cream Cheese Sandwich',\n",
      "                          'Two Eggs, Bacon, and Cheese Sandwich'},\n",
      " 'Shake Shack (Downtown Brooklyn)': {'Avocado Bacon Burger',\n",
      "                                     'Avocado Bacon Chicken'},\n",
      " \"Sticky's - DT BK (9)\": {'3pc Chicken Fingers'},\n",
      " 'Tio Pio': {'Chocolate Cake'},\n",
      " 'moonbowls (Healthy Korean Bowls- Bridge St)': {'BBQ Chicken Bowl'}}\n"
     ]
    }
   ],
   "source": [
    "def deals_in_range(mmdd, starttime, endtime):\n",
    "    filenames = sorted(glob.glob(f\"./scraped-2024{mmdd}-*.json\"))\n",
    "    for file in filenames:\n",
    "        if starttime <= file[19:23] <= endtime:\n",
    "            with open(file, 'r') as f:\n",
    "                json_data = json.load(f)\n",
    "                print('\\n', file[19:23])\n",
    "                pprint(get_deals(json_data))\n",
    "\n",
    "deals_in_range('0401', '1200', '1700')"
   ]
  },
  {
   "cell_type": "code",
   "execution_count": null,
   "metadata": {},
   "outputs": [],
   "source": []
  },
  {
   "cell_type": "code",
   "execution_count": null,
   "metadata": {},
   "outputs": [],
   "source": []
  }
 ],
 "metadata": {
  "kernelspec": {
   "display_name": "Python 3",
   "language": "python",
   "name": "python3"
  },
  "language_info": {
   "codemirror_mode": {
    "name": "ipython",
    "version": 3
   },
   "file_extension": ".py",
   "mimetype": "text/x-python",
   "name": "python",
   "nbconvert_exporter": "python",
   "pygments_lexer": "ipython3",
   "version": "3.12.2"
  }
 },
 "nbformat": 4,
 "nbformat_minor": 2
}
